{
 "cells": [
  {
   "cell_type": "markdown",
   "id": "4c538f84",
   "metadata": {},
   "source": [
    "# A Programming Course for Beginners\n",
    "\n",
    "Lessons:\n",
    "\n",
    "1. <a href=\"001/learntocode-001.ipynb\">Introduction: How Computers Work, Python, Notebooks</a>\n",
    "2. <a href=\"002/learntocode-002.ipynb\">Numbers, Text, Variables and Functions</a>\n",
    "3. <a href=\"003/learntocode-003.ipynb\">Control Structures: if/else, while</a>\n",
    "4. Lists, Sequences & More Loops\n",
    "   - Indexing\n",
    "   - ...\n",
    "5. Turtle Graphics\n",
    "\n",
    "Topics:\n",
    "- Dictionaries\n",
    "- The Python Standard Library\n",
    "- PyPI And 3rd-Party Libraries\n",
    "- Accessing the Internet\n",
    "- Files\n",
    "- Classes & Objects"
   ]
  }
 ],
 "metadata": {
  "kernelspec": {
   "display_name": "Python 3",
   "language": "python",
   "name": "python3"
  },
  "language_info": {
   "codemirror_mode": {
    "name": "ipython",
    "version": 3
   },
   "file_extension": ".py",
   "mimetype": "text/x-python",
   "name": "python",
   "nbconvert_exporter": "python",
   "pygments_lexer": "ipython3",
   "version": "3.7.3"
  }
 },
 "nbformat": 4,
 "nbformat_minor": 5
}
