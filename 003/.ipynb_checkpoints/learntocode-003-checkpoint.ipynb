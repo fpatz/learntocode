{
 "cells": [
  {
   "cell_type": "markdown",
   "id": "8119e6d2",
   "metadata": {},
   "source": [
    "# Exercises\n",
    "\n",
    "Before we start lesson 3, here is one bit of new information, and some quick refreshers of what you have learned in lesson 2. In Python, you can mix program code and explanation text by using _comments_. Comments are on a line for themselves and start with a ```#```, like in the following code cell:"
   ]
  },
  {
   "cell_type": "code",
   "execution_count": null,
   "id": "c4104bd1",
   "metadata": {},
   "outputs": [],
   "source": [
    "# This is a comment. It is ignored by Python.\n",
    "print(\"Comments start with a #\")"
   ]
  },
  {
   "cell_type": "markdown",
   "id": "ae576989",
   "metadata": {},
   "source": [
    "Go through the following code cells and add the missing code to recap what you have learned in <a href=\"../../learntocode-002.ipynb\">lesson 2</a>."
   ]
  },
  {
   "cell_type": "code",
   "execution_count": null,
   "id": "63e54ce8",
   "metadata": {},
   "outputs": [],
   "source": [
    "# Divide 612 by 12 and assign the result to a variables named 'q'"
   ]
  },
  {
   "cell_type": "code",
   "execution_count": null,
   "id": "7376b99b",
   "metadata": {},
   "outputs": [],
   "source": [
    "# Define a function called \"twice\" that takes 'x' as an argument and returns x * 2"
   ]
  },
  {
   "cell_type": "code",
   "execution_count": 44,
   "id": "78bdf429",
   "metadata": {},
   "outputs": [],
   "source": [
    "# Call the function 'twice', giving it q as an argument, and print the result"
   ]
  },
  {
   "cell_type": "code",
   "execution_count": null,
   "id": "e59f0ea3",
   "metadata": {},
   "outputs": [],
   "source": [
    "# Define a function called \"stutter\" that takes 'word' as an argument and returns the word\n",
    "# repeated three times. Example: stutter(\"bird\") returns \"birdbirdbird\""
   ]
  },
  {
   "cell_type": "code",
   "execution_count": null,
   "id": "3d391dbb",
   "metadata": {},
   "outputs": [],
   "source": [
    "# Print the result of calling stutter on the result of stutter(\"frog\") (how many frogs do you expect?)"
   ]
  },
  {
   "cell_type": "markdown",
   "id": "815c9016",
   "metadata": {},
   "source": [
    "# Lesson 3: Control Structures\n",
    "\n",
    "In this lesson we'll learn about a way to _control_ the flow of execution in a program, like making decisions and creating loops (repeating something). From the first lessons, remember that a program is run by executing it step by step, manipulating data on the way and eventually interacting with its environment (e.g. printing something):\n",
    "\n",
    "```\n",
    "step1\n",
    "step2\n",
    "step3\n",
    "...\n",
    "```\n",
    "\n",
    "A program like the above has no variations: it simply runs step1, step2, step3 and so on in that order.\n",
    "\n",
    "## Making Decisions\n",
    "\n",
    "In most programs you'll have to make _decisions_: doing some steps only when a condition is true. For this, Python has the ```if``` statement. It looks similar to ```def```:\n",
    "\n",
    "```\n",
    "if condition:\n",
    "   true_step1\n",
    "   true_step2\n",
    "   ...\n",
    "# The else-part is optional, you can leave it out\n",
    "else:\n",
    "   else_step1\n",
    "   else_step2\n",
    "   ...\n",
    "```\n",
    "\n",
    "If the condition is **true**, the program executes the true-steps. If the condition is not true, the program executes the else-steps.\n",
    "\n",
    "Look at how this program text is structured: the ```if``` and ```else``` are followed by colons ```:```, and the blocks below them are shifted to the right (or \"indented\"), so Python knows what belongs together.\n",
    "\n",
    "Here are simple examples (run them!):"
   ]
  },
  {
   "cell_type": "code",
   "execution_count": null,
   "id": "63620e00",
   "metadata": {},
   "outputs": [],
   "source": [
    "if 7 > 5:\n",
    "   print(\"7 is greater than 5\")\n",
    "   print(\"which is a good thing, otherwise we'd be lost\")"
   ]
  },
  {
   "cell_type": "code",
   "execution_count": null,
   "id": "4e26b3c6",
   "metadata": {},
   "outputs": [],
   "source": [
    "if 3 > 5:\n",
    "   print(\"3 is greater than 5 (hmm ...)\")\n",
    "else:\n",
    "   print(\"3 is NOT greater than 5 (thank god!)\")"
   ]
  },
  {
   "cell_type": "markdown",
   "id": "96aeb192",
   "metadata": {},
   "source": [
    "Python has a lot of ways to test conditions, for example ```<``` (less than), ```>``` (greater than), ```<=``` (less-or-equal), ```>=``` (greater-or-equal) and so on. To check, whether something is equal, you can use ```==``` (yes, that are TWO equal signs). Don't confuse this with the single equal sign, that is used to set the values of variables!\n",
    "```>,<,<=,>=,==``` are called _comparison operators_, you can use them to compare text, numbers and other data:"
   ]
  },
  {
   "cell_type": "code",
   "execution_count": null,
   "id": "bf18f241",
   "metadata": {},
   "outputs": [],
   "source": [
    "singer=\"Ed Sheeran\"\n",
    "if singer==\"Ed Sheeran\":\n",
    "    look=\"funny\"\n",
    "print(singer, \"looks\", look)"
   ]
  },
  {
   "cell_type": "markdown",
   "id": "c7e1376e",
   "metadata": {},
   "source": [
    "Sometimes you want to check multiple conditions. Using ```if``` and ```else```, that would look like so:\n",
    "\n",
    "```\n",
    "if condition1:\n",
    "   A\n",
    "else:\n",
    "   if condition2:\n",
    "      B\n",
    "   else:\n",
    "      if condition3:\n",
    "         C\n",
    "      else:\n",
    "         D\n",
    "```\n",
    "\n",
    "This program does A, when condition1 is true, B for condition2, C for condition3 and D otherwise. As you can see, the nested blocks are going further and further to the right, which looks a little confusing. Python therefore has a simpler way to do the same with ```elif``` (meaning, _else check the next condition_):"
   ]
  },
  {
   "cell_type": "code",
   "execution_count": null,
   "id": "682cac49",
   "metadata": {},
   "outputs": [],
   "source": [
    "day_of_the_week = 4\n",
    "if day_of_the_week == 1:\n",
    "    print(\"Monday\")\n",
    "elif day_of_the_week == 2:\n",
    "    print(\"Tuesday\")\n",
    "elif day_of_the_week == 3:\n",
    "    print(\"Wednesday\")\n",
    "elif day_of_the_week == 4:\n",
    "    print(\"Thursday\")\n",
    "elif day_of_the_week == 5:\n",
    "    print(\"Friday\")\n",
    "elif day_of_the_week == 6:\n",
    "    print(\"Saturday\")\n",
    "elif day_of_the_week == 7:\n",
    "    print(\"Sunday\")\n",
    "else:\n",
    "    print(\"Oops.\")"
   ]
  },
  {
   "cell_type": "markdown",
   "id": "46c75559",
   "metadata": {},
   "source": [
    "## Loops\n",
    "\n",
    "You want to use loops to repeat the same steps in a program a couple of times. One way in Python to build a loop is using ```while```, which looks similar to ```if``` (e.g. using a condition, a colon, and a block):\n",
    "\n",
    "```\n",
    "while condition:\n",
    "    loop_step1\n",
    "    loop_step2\n",
    "    ...\n",
    "```\n",
    "\n",
    "This program would do the loop-steps again and again, as long as _condition_ is true. \n",
    "\n",
    "For the following program, you'll need three additional informations:\n",
    "* the function ```input``` is built into Python and reads a text from the user\n",
    "* in Python, ```True``` is a \"condition\", that is always true (so the loop in the program below is endless); the opposite of ```True``` is ```False````\n",
    "* ```break``` can be used to _interrupt_ a loop; when you use ```break```, the program immediately \"jumps\" out of the loop block and continues after the loop\n",
    "\n",
    "Take a moment to try out the program and understand how it works."
   ]
  },
  {
   "cell_type": "code",
   "execution_count": null,
   "id": "7935ec42",
   "metadata": {},
   "outputs": [],
   "source": [
    "while True:\n",
    "    language=input(\"Enter a language: \")\n",
    "    if language==\"English\":\n",
    "        print(\"Good morning!\")\n",
    "    elif language==\"Deutsch\":\n",
    "        print(\"Guten Morgen!\")\n",
    "    elif language==\"Francais\":\n",
    "        print(\"Bon matin!\")\n",
    "    elif language==\"STOP\":\n",
    "        break\n",
    "    else:\n",
    "        print(\"Sorry, I don't know that language\")"
   ]
  },
  {
   "cell_type": "markdown",
   "id": "46cc7912",
   "metadata": {},
   "source": [
    "# Game: Guess the Number\n",
    "\n",
    "Today's programming exercise is a game, that lets the user guess a number. The user enters a number, and the program responds by either printing \"too large\" or \"too small\". The program repeats until the user guessed the correct number. Then it prints \"you won!\" and stops. Here are two hints:\n",
    "\n",
    "* To generate a random number, you can use the _library function_ ```random.randint(a, b)``` which returns a number x, a<=x<=b. Library functions are very useful: Python has thousands of libraries that you can use to solve problems from generating random numbers, image processing, game programming etc. etc.\n",
    "* The function ```input``` returns a text.\n",
    "* We can check whether text only contains digits, that it is a number, by using \"isdigit()\"\n",
    "* We can convert text to an integer number by using \"int()\"\n",
    "\n",
    "Here is a function that you can use to read a positive integer from the user. It prints an error message, if the user enters something that is not a number, and it returns -1, if the users enters \"stop\", to end the game. "
   ]
  },
  {
   "cell_type": "code",
   "execution_count": null,
   "id": "32ef7b02",
   "metadata": {},
   "outputs": [],
   "source": [
    "def read_number():\n",
    "    while True:\n",
    "        text = input(\"Enter a number (or 'stop'): \")\n",
    "        if text == \"stop\":\n",
    "            return -1\n",
    "        elif text.isdigit():\n",
    "            return int(text)\n",
    "        print(\"Error:\", text, \"is not a number!\")\n",
    "        \n",
    "# DON'T FORGET TO RUN THIS CELL TO MAKE read_number AVAILABLE TO YOUR GAME!"
   ]
  },
  {
   "cell_type": "markdown",
   "id": "14ae32c9",
   "metadata": {},
   "source": [
    "Here is the skeleton of the game that you have to complete:"
   ]
  },
  {
   "cell_type": "code",
   "execution_count": null,
   "id": "6f880dff",
   "metadata": {},
   "outputs": [],
   "source": [
    "# 'import' makes the random library available to our program\n",
    "import random\n",
    "\n",
    "number = random.randint(1,100)\n",
    "\n",
    "# Here is the endless guessing loop\n",
    "while True:\n",
    "    guess = read_number()\n",
    "    if guess == -1:\n",
    "        print(\"You lose!\")\n",
    "        break\n",
    "\n",
    "    ### YOU HAVE TO ADD THE GAME LOGIC HERE ###"
   ]
  }
 ],
 "metadata": {
  "kernelspec": {
   "display_name": "Python 3",
   "language": "python",
   "name": "python3"
  },
  "language_info": {
   "codemirror_mode": {
    "name": "ipython",
    "version": 3
   },
   "file_extension": ".py",
   "mimetype": "text/x-python",
   "name": "python",
   "nbconvert_exporter": "python",
   "pygments_lexer": "ipython3",
   "version": "3.7.3"
  }
 },
 "nbformat": 4,
 "nbformat_minor": 5
}
