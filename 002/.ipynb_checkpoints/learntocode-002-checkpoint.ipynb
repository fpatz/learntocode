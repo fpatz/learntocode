{
 "cells": [
  {
   "cell_type": "markdown",
   "id": "61f672f6",
   "metadata": {},
   "source": [
    "# Lesson 2: First Steps with Python"
   ]
  },
  {
   "cell_type": "markdown",
   "id": "d23ec5f1",
   "metadata": {},
   "source": [
    "To start with the second part of the course, you should know what a Python notebook is how you can run, modifiy and create code cells.If you are not sure about that, go back and recap <a href=\"../001/learntocode-001.ipynb\">Part 1</a>!"
   ]
  },
  {
   "cell_type": "markdown",
   "id": "03f11ce0",
   "metadata": {},
   "source": [
    "You can use Python like a calculator. In the code cell below, enter ```120+14```, press SHIFT-ENTER and see what happens."
   ]
  },
  {
   "cell_type": "code",
   "execution_count": null,
   "id": "5af96ca4",
   "metadata": {},
   "outputs": [],
   "source": []
  },
  {
   "cell_type": "markdown",
   "id": "fd2d9c7e",
   "metadata": {},
   "source": [
    "Python also understands algebraic operators like ```*```, ```-```. Try them in the code cell above."
   ]
  },
  {
   "cell_type": "markdown",
   "id": "97500dfa",
   "metadata": {},
   "source": [
    "Other than a normal calculator, Python can handle huuuuge numbers easily. In the next cell, multiply 2103092183092183908123091238 and -912739879123798173981273982173921873192."
   ]
  },
  {
   "cell_type": "code",
   "execution_count": null,
   "id": "dcf2f2af",
   "metadata": {},
   "outputs": [],
   "source": []
  },
  {
   "cell_type": "markdown",
   "id": "895b07dc",
   "metadata": {},
   "source": [
    "The numbers we have looked at so far where _integers_. Now divide 18 by 4. What you see is a number with a decimal point, which is called a _floating point number_ in programming. "
   ]
  },
  {
   "cell_type": "code",
   "execution_count": null,
   "id": "28f6f158",
   "metadata": {},
   "outputs": [],
   "source": [
    "18/4"
   ]
  },
  {
   "cell_type": "markdown",
   "id": "b95195c4",
   "metadata": {},
   "source": [
    "Besides numbers, computers can also work with text and all kinds of other _data types_. \"Data\" is what programs work with. An image for example, is data. In programming languages, each data item has a _type_. The type determines what you can do with data: numbers can be added and multiplied and so forth, images can be printed, in text data you can manipulate words and characters.\n",
    "\n",
    "The data type for text in Python is called _string_. Strings must _quoted_, so Python doesn't confuse them with programming instructions. For quoting, you can use one, two or three single or double quotation marks at the beginning and the of the string. Here are some examples (you can run that cell, too):"
   ]
  },
  {
   "cell_type": "code",
   "execution_count": null,
   "id": "49888905",
   "metadata": {},
   "outputs": [],
   "source": [
    "'I am string'\n",
    "\n",
    "\"I am, too\"\n",
    "\n",
    "\"\"\"Inside triple quotation marks\n",
    "line breaks\n",
    "are allowed\n",
    "\"\"\""
   ]
  },
  {
   "cell_type": "markdown",
   "id": "0f76eb4c",
   "metadata": {},
   "source": [
    "Look at the output of that call. In a Python notebook, the output of a cell is the _last_ thing in the cell. The previous things are ignored. Look also at the string itself: ```\\n``` is the Python way of encoding a \"new line\" character."
   ]
  },
  {
   "cell_type": "markdown",
   "id": "e4148368",
   "metadata": {},
   "source": [
    "## Variables"
   ]
  },
  {
   "cell_type": "markdown",
   "id": "da3a53f3",
   "metadata": {},
   "source": [
    "Variables are names for data. You can set a variable like so:"
   ]
  },
  {
   "cell_type": "code",
   "execution_count": null,
   "id": "adaf77ce",
   "metadata": {},
   "outputs": [],
   "source": [
    "very_big_number = 320983209840239840923\n",
    "famous_band = \"The Beatles\""
   ]
  },
  {
   "cell_type": "markdown",
   "id": "b278aad5",
   "metadata": {},
   "source": [
    "Variable names can be as long as you want, and can be made of letters, digits, and the underscore (```_```). Variable names cannot start with a digit. Examples for valid variable names are: ```x```, ```magic12``` or ```foo_foo_9``` and so on. \n",
    "\n",
    "You can refer to the data later by using the variable name in the place where you need the data."
   ]
  },
  {
   "cell_type": "code",
   "execution_count": null,
   "id": "98fc229f",
   "metadata": {},
   "outputs": [],
   "source": [
    "famous_band + \" wrote a lot of hits many years ago\""
   ]
  },
  {
   "cell_type": "markdown",
   "id": "93ed6f8f",
   "metadata": {},
   "source": [
    "If you try to use a variable, that does not exist, Python complains:"
   ]
  },
  {
   "cell_type": "code",
   "execution_count": null,
   "id": "3fbb1375",
   "metadata": {},
   "outputs": [],
   "source": [
    "does_not_exist"
   ]
  },
  {
   "cell_type": "markdown",
   "id": "e7aa7a3e",
   "metadata": {},
   "source": [
    "When you run that cell, Python shows an error message (called a _traceback_), that tries to explain what Python didn't understand. You'll get used to look through a traceback and understand what went wrong.\n",
    "\n",
    "You can also _modify_ a variable:"
   ]
  },
  {
   "cell_type": "code",
   "execution_count": null,
   "id": "b0320f48",
   "metadata": {},
   "outputs": [],
   "source": [
    "a = 1\n",
    "print(a)\n",
    "a = a + 1\n",
    "print(a)"
   ]
  },
  {
   "cell_type": "markdown",
   "id": "a1253e9f",
   "metadata": {},
   "source": [
    "**Important**: this is a very important concept in programming. A program \"runs\" from the beginning to the end. Each step is happening after the other, and things happen on the way. In this case, _first_ a is 1, and _then_ a becomes 2. That is, how programs work: things happen step by after, one after the other."
   ]
  },
  {
   "cell_type": "markdown",
   "id": "b3347be1",
   "metadata": {},
   "source": [
    "## Functions\n",
    "Do you remember the ```\"Hello, world!\"``` example from the previous section? It was:"
   ]
  },
  {
   "cell_type": "code",
   "execution_count": null,
   "id": "ffa4ae3d",
   "metadata": {},
   "outputs": [],
   "source": [
    "print(\"Hello, world!\")"
   ]
  },
  {
   "cell_type": "markdown",
   "id": "243890ed",
   "metadata": {},
   "source": [
    "We now know what the ```\"Hello, world!\"``` part is: a piece of data of type text that we give to ```print```. ```print``` is a function, that is built into Python, to print data (which is a little boring with notebooks, because in notebooks, data gets printed automatically).\n",
    "\n",
    "Functions are named building blocks for programs: a piece of code, that can be used in other places by _calling_ it. A function is defined using the ```def``` statement like in this example:\n",
    "\n",
    "````\n",
    "def my_function(x):\n",
    "    x = x + 1\n",
    "    return 2 * x\n",
    "````\n",
    "\n",
    "```def``` defines ```my_function``` to be the code below ```def```: everything that is more _indented_ -- shifted a little bit to the right by inserting spaces at the beginning of the lines. The _arguments_ or _parameters_ (both terms are used) are listed in parentheses after name. The ```return``` statement gives data back to the place from where the function was called.\n",
    "\n",
    "Calling a function is done by using its name, followed by parentheses that enclose the parameters you want to give to the function:\n",
    "\n",
    "```\n",
    "result = my_function(13)\n",
    "print(result)\n",
    "```\n",
    "\n",
    "Can you find out what is printed?"
   ]
  },
  {
   "cell_type": "markdown",
   "id": "bfe8d192",
   "metadata": {},
   "source": [
    "### Exercise for Today\n",
    "\n",
    "Write a function that prints a personalized greeting, like ```Hello, Chris!``` and that gets the name in the greeting as a parameter.\n",
    "\n",
    "Additional information:\n",
    "* Strings can be combined by using ```+```, so ```\"a\"+\"b\"``` is ```\"ab\"```"
   ]
  },
  {
   "cell_type": "code",
   "execution_count": null,
   "id": "51054f5d",
   "metadata": {},
   "outputs": [],
   "source": []
  }
 ],
 "metadata": {
  "kernelspec": {
   "display_name": "Python 3",
   "language": "python",
   "name": "python3"
  },
  "language_info": {
   "codemirror_mode": {
    "name": "ipython",
    "version": 3
   },
   "file_extension": ".py",
   "mimetype": "text/x-python",
   "name": "python",
   "nbconvert_exporter": "python",
   "pygments_lexer": "ipython3",
   "version": "3.7.3"
  }
 },
 "nbformat": 4,
 "nbformat_minor": 5
}
